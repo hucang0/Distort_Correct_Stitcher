{
 "cells": [
  {
   "cell_type": "code",
   "execution_count": null,
   "metadata": {},
   "outputs": [],
   "source": [
    "# Licensed under the Apache License, Version 2.0. See LICENSE file in the project root for license information.\n",
    "\n",
    "import numpy as np\n",
    "import warnings, glob\n",
    "warnings.filterwarnings(\"ignore\")\n",
    "import cupy as cp \n",
    "import torch \n",
    "import stitching   as st \n",
    "import utility     as ut\n",
    "import distortion  as ds \n",
    "\n",
    "# clean memory \n",
    "torch.cuda.empty_cache()\n",
    "cp._default_memory_pool.free_all_blocks()\n",
    "\n",
    "# load data\n",
    "data          = np.load('data.npz')\n",
    "tiles         = data['tiles']              # tiles in     [t, c, y, x] float32 format\n",
    "positions_ini = data['positions_ini']      # positions in [t, 2] format yx global position of each tile \n",
    "\n",
    "# sharpen images \n",
    "tiles = st.sharpen_tiles(tiles)  # sharpening\n",
    "\n",
    "# chromatic correction\n",
    "chromo_shifts = np.array( st.compute_chromatic(tiles) )\n",
    "chromo_shifts_mean, _, outlier_tiles = st.compute_ransac_average_shifts(chromo_shifts)\n",
    "tiles_chromo_correct = st.chrom_correct(tiles, chromo_shifts)\n",
    " \n",
    "# pre_stitching, without distortion correction \n",
    "positions_pre = st.pr_stitching(tiles_chromo_correct, positions_ini)\n",
    "\n",
    "# distortion correction and stitching \n",
    "positions, k1color_s = st.compute_k1_recursive_colors(tiles_chromo_correct, positions_pre, outlier_tiles)\n",
    "tiles_correct = tiles_chromo_correct.copy()\n",
    "nchannels = tiles.shape[1]\n",
    "for ch in range(nchannels):\n",
    "    tiles_cupy = ds.undistort_tiles_batched(tiles[:, ch], k1color_s[:, ch])\n",
    "    tiles_correct[:, ch] = cp.asnumpy(tiles_cupy)\n",
    "    del tiles_cupy\n",
    "    cp.get_default_memory_pool().free_all_blocks()\n",
    "\n",
    "# assemble canvas\n",
    "canvas = ut.assemble_canvas(tiles_correct, positions)\n",
    "\n",
    "# save results \n",
    "f = 'canvas.tif'\n",
    "ut.save_fiji(canvas, f, dimension_order='CYX', normalization=False)\n"
   ]
  }
 ],
 "metadata": {
  "kernelspec": {
   "display_name": "cucim",
   "language": "python",
   "name": "python3"
  },
  "language_info": {
   "name": "python",
   "version": "3.10.15"
  }
 },
 "nbformat": 4,
 "nbformat_minor": 2
}
